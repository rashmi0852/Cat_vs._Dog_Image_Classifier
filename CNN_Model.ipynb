{
  "nbformat": 4,
  "nbformat_minor": 0,
  "metadata": {
    "colab": {
      "provenance": [],
      "toc_visible": true,
      "include_colab_link": true
    },
    "kernelspec": {
      "name": "python3",
      "display_name": "Python 3"
    }
  },
  "cells": [
    {
      "cell_type": "markdown",
      "metadata": {
        "id": "view-in-github",
        "colab_type": "text"
      },
      "source": [
        "<a href=\"https://colab.research.google.com/github/rashmi0852/Cat_vs._Dog_Image_Classifier/blob/main/CNN_Model.ipynb\" target=\"_parent\"><img src=\"https://colab.research.google.com/assets/colab-badge.svg\" alt=\"Open In Colab\"/></a>"
      ]
    },
    {
      "cell_type": "markdown",
      "metadata": {
        "id": "3DR-eO17geWu"
      },
      "source": [
        "# Cat vs. Dog Image Classifier"
      ]
    },
    {
      "cell_type": "markdown",
      "source": [
        "###Summary"
      ],
      "metadata": {
        "id": "_jPtsYP1CMKA"
      }
    },
    {
      "cell_type": "markdown",
      "source": [
        "\n",
        "\n",
        "**1. Data Preparation:**\n",
        "   - I have collected a dataset of images containing cats and dogs.\n",
        "   - The dataset is divided into two parts: a training set and a test set.\n",
        "   - To improve model generalization, you applied data augmentation techniques to the training set, which include:\n",
        "     - Rescaling: Scaling pixel values to a range between 0 and 1.\n",
        "     - Shearing: Distorting the image by shifting parts of it.\n",
        "     - Zooming: Changing the scale of the image.\n",
        "     - Horizontal Flipping: Creating mirror images by flipping horizontally.\n",
        "\n",
        "**2. Model Architecture:**\n",
        "   - I built a Convolutional Neural Network (CNN) model using Keras, which is specifically designed for image classification tasks.\n",
        "   - The CNN consists of several layers:\n",
        "     - Convolutional Layer 1: Detects features using 32 filters with a 3x3 kernel and ReLU activation.\n",
        "     - Max Pooling Layer 1: Reduces the spatial dimensions using a 2x2 pooling window and a stride of 2.\n",
        "     - Convolutional Layer 2: Adds more feature detection with 32 filters and ReLU activation.\n",
        "     - Max Pooling Layer 2: Further reduces spatial dimensions.\n",
        "     - Flattening Layer: Converts the 2D feature maps into a 1D vector.\n",
        "     - Fully Connected Layer (Dense) 1: Contains 128 units with ReLU activation, providing higher-level feature representation.\n",
        "     - Output Layer: Contains a single unit with sigmoid activation for binary classification (cat or dog).\n",
        "\n",
        "**3. Model Compilation:**\n",
        "   - You compiled the model by specifying:\n",
        "     - The Adam optimizer: A popular optimizer for training deep learning models.\n",
        "     - Binary Cross-Entropy Loss: Suitable for binary classification problems.\n",
        "     - Accuracy Metric: To monitor how well the model is performing during training.\n",
        "\n",
        "**4. Training:**\n",
        "   - You trained the model using the training dataset (with data augmentation) for a fixed number of epochs (in this case, 25).\n",
        "   - During training, the model learns to recognize patterns and features that distinguish between cats and dogs.\n",
        "   - Validation is performed on the test dataset to assess the model's performance on unseen data.\n",
        "\n",
        "**5. Prediction:**\n",
        "   - After training, you can use the model to make predictions on new, unlabeled images.\n",
        "   - You load and preprocess an image for prediction, ensuring it matches the model's input size and data format.\n",
        "   - The model predicts whether the image contains a cat or a dog by outputting a probability score.\n",
        "\n",
        "**6. Output:**\n",
        "   - Based on the model's prediction (probability score), you determine whether the given image is classified as a \"cat\" or a \"dog.\"\n",
        "\n"
      ],
      "metadata": {
        "id": "tazY0TT1DUWn"
      }
    },
    {
      "cell_type": "markdown",
      "metadata": {
        "id": "EMefrVPCg-60"
      },
      "source": [
        "### Importing the libraries"
      ]
    },
    {
      "cell_type": "code",
      "source": [
        "import tensorflow as tf\n",
        "import numpy as np\n",
        "from keras.preprocessing import image\n",
        "from keras.preprocessing.image import ImageDataGenerator"
      ],
      "metadata": {
        "id": "9IwepKFZuVrm"
      },
      "execution_count": null,
      "outputs": []
    },
    {
      "cell_type": "markdown",
      "metadata": {
        "id": "oxQxCBWyoGPE"
      },
      "source": [
        "## Data Preprocessing"
      ]
    },
    {
      "cell_type": "markdown",
      "metadata": {
        "id": "MvE-heJNo3GG"
      },
      "source": [
        "### Preprocessing the Training set"
      ]
    },
    {
      "cell_type": "code",
      "metadata": {
        "id": "0koUcJMJpEBD"
      },
      "source": [
        "train_datagen = ImageDataGenerator(rescale = 1./255,\n",
        "                                   shear_range = 0.2,\n",
        "                                   zoom_range = 0.2,\n",
        "                                   horizontal_flip = True)\n",
        "training_set = train_datagen.flow_from_directory('dataset/training_set',\n",
        "                                                 target_size = (64, 64),\n",
        "                                                 batch_size = 32,\n",
        "                                                 class_mode = 'binary')"
      ],
      "execution_count": null,
      "outputs": []
    },
    {
      "cell_type": "markdown",
      "metadata": {
        "id": "mrCMmGw9pHys"
      },
      "source": [
        "### Preprocessing the Test set"
      ]
    },
    {
      "cell_type": "code",
      "metadata": {
        "id": "SH4WzfOhpKc3"
      },
      "source": [
        "test_datagen = ImageDataGenerator(rescale = 1./255)\n",
        "test_set = test_datagen.flow_from_directory('dataset/test_set',\n",
        "                                            target_size = (64, 64),\n",
        "                                            batch_size = 32,\n",
        "                                            class_mode = 'binary')"
      ],
      "execution_count": null,
      "outputs": []
    },
    {
      "cell_type": "markdown",
      "metadata": {
        "id": "af8O4l90gk7B"
      },
      "source": [
        "##  Building the model (CNN)\n"
      ]
    },
    {
      "cell_type": "markdown",
      "metadata": {
        "id": "ces1gXY2lmoX"
      },
      "source": [
        "### Initialize the model"
      ]
    },
    {
      "cell_type": "code",
      "source": [
        "cnn= tf.keras.models.Sequential()"
      ],
      "metadata": {
        "id": "05V27qaivVl2"
      },
      "execution_count": null,
      "outputs": []
    },
    {
      "cell_type": "markdown",
      "metadata": {
        "id": "u5YJj_XMl5LF"
      },
      "source": [
        "### add Convolution"
      ]
    },
    {
      "cell_type": "code",
      "source": [
        "cnn.add(tf.keras.layers.Conv2D(filters=32,kernel_size=3,activation='relu',input_shape=[64,64,3]))"
      ],
      "metadata": {
        "id": "dgTt0L8svi32"
      },
      "execution_count": null,
      "outputs": []
    },
    {
      "cell_type": "markdown",
      "metadata": {
        "id": "tf87FpvxmNOJ"
      },
      "source": [
        "###  Pooling"
      ]
    },
    {
      "cell_type": "code",
      "source": [
        "cnn.add(tf.keras.layers.MaxPool2D(pool_size=2,strides=2))"
      ],
      "metadata": {
        "id": "szaYxro2wI6P"
      },
      "execution_count": null,
      "outputs": []
    },
    {
      "cell_type": "markdown",
      "metadata": {
        "id": "xaTOgD8rm4mU"
      },
      "source": [
        "### Adding a second convolutional layer"
      ]
    },
    {
      "cell_type": "code",
      "source": [
        "#convolution layer\n",
        "cnn.add(tf.keras.layers.Conv2D(filters=32,kernel_size=3,activation='relu'))\n",
        "\n",
        "#Pooling\n",
        "cnn.add(tf.keras.layers.MaxPool2D(pool_size=2,strides=2))"
      ],
      "metadata": {
        "id": "Zxa0io6ZwoLR"
      },
      "execution_count": null,
      "outputs": []
    },
    {
      "cell_type": "markdown",
      "metadata": {
        "id": "tmiEuvTunKfk"
      },
      "source": [
        "### Flattening"
      ]
    },
    {
      "cell_type": "code",
      "source": [
        "cnn.add(tf.keras.layers.Flatten())"
      ],
      "metadata": {
        "id": "jPD0slWwwvjq"
      },
      "execution_count": null,
      "outputs": []
    },
    {
      "cell_type": "markdown",
      "metadata": {
        "id": "dAoSECOm203v"
      },
      "source": [
        "### Add input & First hidden layer"
      ]
    },
    {
      "cell_type": "code",
      "source": [
        "cnn.add(tf.keras.layers.Dense(units=128,activation='relu',))"
      ],
      "metadata": {
        "id": "guFvbPNaw7oT"
      },
      "execution_count": null,
      "outputs": []
    },
    {
      "cell_type": "markdown",
      "metadata": {
        "id": "yTldFvbX28Na"
      },
      "source": [
        "### Output Layer"
      ]
    },
    {
      "cell_type": "code",
      "source": [
        "cnn.add(tf.keras.layers.Dense(units=1,activation='sigmoid'))"
      ],
      "metadata": {
        "id": "79JOUvR1xNUf"
      },
      "execution_count": null,
      "outputs": []
    },
    {
      "cell_type": "markdown",
      "metadata": {
        "id": "D6XkI90snSDl"
      },
      "source": [
        "##  Train the model"
      ]
    },
    {
      "cell_type": "markdown",
      "metadata": {
        "id": "vfrFQACEnc6i"
      },
      "source": [
        "### Compile the model"
      ]
    },
    {
      "cell_type": "code",
      "source": [
        "cnn.compile(optimizer = 'adam', loss = 'binary_crossentropy', metrics = ['accuracy'])"
      ],
      "metadata": {
        "id": "1-3yFq_5xSrP"
      },
      "execution_count": null,
      "outputs": []
    },
    {
      "cell_type": "markdown",
      "metadata": {
        "id": "ehS-v3MIpX2h"
      },
      "source": [
        "### Train the model on the Training set and evaluate it on the Test set"
      ]
    },
    {
      "cell_type": "code",
      "source": [
        "cnn.fit(X=training_set,validation=test_set,epochs=25)"
      ],
      "metadata": {
        "id": "tP6-fXO9yVKA"
      },
      "execution_count": null,
      "outputs": []
    },
    {
      "cell_type": "markdown",
      "metadata": {
        "id": "U3PZasO0006Z"
      },
      "source": [
        "## prediction"
      ]
    },
    {
      "cell_type": "markdown",
      "source": [
        "#### Load Image"
      ],
      "metadata": {
        "id": "gh8Z1IXzy5-W"
      }
    },
    {
      "cell_type": "code",
      "source": [
        "test_image=image.load_img('dataset/prediction/image1.jpg',target_size=(64,64))"
      ],
      "metadata": {
        "id": "Tp28gu7DyoVD"
      },
      "execution_count": null,
      "outputs": []
    },
    {
      "cell_type": "markdown",
      "source": [
        "#### Format image"
      ],
      "metadata": {
        "id": "JKGpAx3_0GTI"
      }
    },
    {
      "cell_type": "code",
      "source": [
        "#convert image to array\n",
        "test_image = image.img_to_array(test_image)\n",
        "\n",
        "#Add extra diemnstion as data passed in batch\n",
        "test_image = np.expand_dims(test_image, axis = 0)\n",
        "\n"
      ],
      "metadata": {
        "id": "JQz3rvWN0Ct-"
      },
      "execution_count": null,
      "outputs": []
    },
    {
      "cell_type": "code",
      "source": [
        "#Prediction\n",
        "result = cnn.predict(test_image)\n",
        "training_set.class_indices\n",
        "if result[0][0] == 1:\n",
        "  prediction = 'dog'\n",
        "else:\n",
        "  prediction = 'cat'"
      ],
      "metadata": {
        "id": "E8JVw_3u0xq2"
      },
      "execution_count": null,
      "outputs": []
    },
    {
      "cell_type": "code",
      "source": [
        "print(\"given image is a\",prediction)"
      ],
      "metadata": {
        "id": "pDD4t6U-00W2"
      },
      "execution_count": null,
      "outputs": []
    },
    {
      "cell_type": "markdown",
      "source": [
        "#Conclusion\n"
      ],
      "metadata": {
        "id": "OzSgLvIcC73v"
      }
    },
    {
      "cell_type": "markdown",
      "source": [
        "In conclusion, this project successfully demonstrated the creation of an image classification model using a Convolutional Neural Network (CNN) to differentiate between images of cats and dogs. Through data preparation, model architecture design, training, and prediction, we achieved the following:\n",
        "\n",
        "1. Data Augmentation: I improved model generalization by applying data augmentation techniques to the training dataset, enhancing its robustness.\n",
        "\n",
        "2. Model Architecture: The CNN model included convolutional and pooling layers to extract features and fully connected layers for classification. It effectively learned to distinguish between the two classes.\n",
        "\n",
        "3. Training and Validation: The model was trained on the augmented training data and validated on a separate test dataset, ensuring its ability to generalize to unseen data.\n",
        "\n",
        "4. Prediction: The trained model was employed to predict the classification of new, unlabeled images, providing binary \"cat\" or \"dog\" outputs.\n",
        "\n"
      ],
      "metadata": {
        "id": "WxSaOku3C_-t"
      }
    }
  ]
}